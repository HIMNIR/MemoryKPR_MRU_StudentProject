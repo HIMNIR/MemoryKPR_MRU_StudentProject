{
 "cells": [
  {
   "cell_type": "markdown",
   "metadata": {},
   "source": [
    "**Loading the libraries** "
   ]
  },
  {
   "cell_type": "code",
   "execution_count": 2,
   "metadata": {},
   "outputs": [
    {
     "name": "stderr",
     "output_type": "stream",
     "text": [
      "c:\\Python312\\Lib\\site-packages\\tqdm\\auto.py:21: TqdmWarning: IProgress not found. Please update jupyter and ipywidgets. See https://ipywidgets.readthedocs.io/en/stable/user_install.html\n",
      "  from .autonotebook import tqdm as notebook_tqdm\n"
     ]
    }
   ],
   "source": [
    "import pandas as pd\n",
    "import os\n",
    "import pytesseract\n",
    "from PIL import Image\n",
    "from transformers import AutoTokenizer, AutoModelForSequenceClassification\n",
    "import torch\n",
    "import numpy as np"
   ]
  },
  {
   "cell_type": "code",
   "execution_count": 42,
   "metadata": {},
   "outputs": [
    {
     "name": "stderr",
     "output_type": "stream",
     "text": [
      "C:\\Users\\Hussein\\AppData\\Local\\Temp\\ipykernel_14576\\2903431629.py:11: SettingWithCopyWarning: \n",
      "A value is trying to be set on a copy of a slice from a DataFrame.\n",
      "Try using .loc[row_indexer,col_indexer] = value instead\n",
      "\n",
      "See the caveats in the documentation: https://pandas.pydata.org/pandas-docs/stable/user_guide/indexing.html#returning-a-view-versus-a-copy\n",
      "  filtered_df['Label'] = filtered_df['Instance Count'].astype(str) + ' ' + filtered_df['Label']\n"
     ]
    },
    {
     "data": {
      "text/html": [
       "<div>\n",
       "<style scoped>\n",
       "    .dataframe tbody tr th:only-of-type {\n",
       "        vertical-align: middle;\n",
       "    }\n",
       "\n",
       "    .dataframe tbody tr th {\n",
       "        vertical-align: top;\n",
       "    }\n",
       "\n",
       "    .dataframe thead th {\n",
       "        text-align: right;\n",
       "    }\n",
       "</style>\n",
       "<table border=\"1\" class=\"dataframe\">\n",
       "  <thead>\n",
       "    <tr style=\"text-align: right;\">\n",
       "      <th></th>\n",
       "      <th>Image Name</th>\n",
       "      <th>Label</th>\n",
       "    </tr>\n",
       "  </thead>\n",
       "  <tbody>\n",
       "    <tr>\n",
       "      <th>0</th>\n",
       "      <td>(1) 18380579401063495.JPG</td>\n",
       "      <td>1 Motor Bike</td>\n",
       "    </tr>\n",
       "    <tr>\n",
       "      <th>1</th>\n",
       "      <td>(1) @GreyCupFestival - 109th Grey Cup.jpeg</td>\n",
       "      <td>2 Adult, 1 Female, 7 Person, 1 Woman, 1 Male, ...</td>\n",
       "    </tr>\n",
       "    <tr>\n",
       "      <th>2</th>\n",
       "      <td>(10) 17887803224903630.jpeg</td>\n",
       "      <td>0 Animal, 1 Horse, 0 Horseback Riding, 0 Leisu...</td>\n",
       "    </tr>\n",
       "    <tr>\n",
       "      <th>3</th>\n",
       "      <td>(12) 17985809330117499.jpeg</td>\n",
       "      <td>0 Fun, 0 Vacation, 1 Person, 0 Road Trip, 1 He...</td>\n",
       "    </tr>\n",
       "    <tr>\n",
       "      <th>4</th>\n",
       "      <td>(13) 18013990822817757.jpeg</td>\n",
       "      <td>0 Clothing, 0 Coat, 0 Jacket, 0 Vest, 0 Shirt,...</td>\n",
       "    </tr>\n",
       "  </tbody>\n",
       "</table>\n",
       "</div>"
      ],
      "text/plain": [
       "                                   Image Name  \\\n",
       "0                   (1) 18380579401063495.JPG   \n",
       "1  (1) @GreyCupFestival - 109th Grey Cup.jpeg   \n",
       "2                 (10) 17887803224903630.jpeg   \n",
       "3                 (12) 17985809330117499.jpeg   \n",
       "4                 (13) 18013990822817757.jpeg   \n",
       "\n",
       "                                               Label  \n",
       "0                                       1 Motor Bike  \n",
       "1  2 Adult, 1 Female, 7 Person, 1 Woman, 1 Male, ...  \n",
       "2  0 Animal, 1 Horse, 0 Horseback Riding, 0 Leisu...  \n",
       "3  0 Fun, 0 Vacation, 1 Person, 0 Road Trip, 1 He...  \n",
       "4  0 Clothing, 0 Coat, 0 Jacket, 0 Vest, 0 Shirt,...  "
      ]
     },
     "execution_count": 42,
     "metadata": {},
     "output_type": "execute_result"
    }
   ],
   "source": [
    "df = pd.read_excel('Example Data-20240208T214429Z-001/Example Data/ImageLabels.xlsx', usecols=['Image Name', 'Confidence', 'Instance Count', 'Label'])\n",
    "\n",
    "\n",
    "\n",
    "# Append the instance counts >=1 to the label, e.g: '1 Human'\n",
    "\n",
    "# Filter based on the criteria\n",
    "filtered_df = df[(df['Confidence'] >= 70)]\n",
    "\n",
    "# Append the instance counts to the label, e.g: '1 Human'\n",
    "filtered_df['Label'] = filtered_df['Instance Count'].astype(str) + ' ' + filtered_df['Label']\n",
    "\n",
    "# Aggregate labels for each image\n",
    "aggregated_labels = filtered_df.groupby('Image Name')['Label'].apply(lambda x: ', '.join(x)).reset_index()\n",
    "\n",
    "# Display the aggregated dataframe\n",
    "aggregated_labels.head()"
   ]
  },
  {
   "cell_type": "code",
   "execution_count": 44,
   "metadata": {},
   "outputs": [
    {
     "data": {
      "text/plain": [
       "{'(1) 18380579401063495.JPG': '1 Motor Bike',\n",
       " '(1) @GreyCupFestival - 109th Grey Cup.jpeg': '2 Adult, 1 Female, 7 Person, 1 Woman, 1 Male, 1 Man, 1 Helmet, 0 Crowd, 0 Clothing, 1 Coat, 0 Footwear, 1 Shoe, 0 Face, 0 Head, 0 Accessories, 0 Bag, 1 Handbag, 1 Glasses',\n",
       " '(10) 17887803224903630.jpeg': '0 Animal, 1 Horse, 0 Horseback Riding, 0 Leisure Activities, 0 Mammal, 1 Person, 1 Adult, 1 Female, 1 Woman',\n",
       " '(12) 17985809330117499.jpeg': '0 Fun, 0 Vacation, 1 Person, 0 Road Trip, 1 Helmet, 0 Nature, 0 Outdoors, 0 Sky, 1 Motorcycle, 0 Transportation, 0 Vehicle',\n",
       " '(13) 18013990822817757.jpeg': '0 Clothing, 0 Coat, 0 Jacket, 0 Vest, 0 Shirt, 0 T-Shirt, 0 Document, 0 Receipt, 0 Text, 0 Id Cards, 3 Passport, 0 Symbol, 0 Face, 0 Head, 1 Person, 1 Credit Card, 1 Business Card, 0 Paper',\n",
       " '(14) 17993584322154200.jpeg': '0 Advertisement, 2 Person, 0 Photography, 0 Animal, 6 Bird, 0 Nature, 0 Outdoors, 0 Poster, 0 Clothing, 1 Glove, 0 Wildlife, 0 Footwear, 2 Shoe, 1 Adult, 1 Bride, 1 Female, 0 Wedding, 1 Woman, 0 Mammal',\n",
       " '(15) 18346855723078911.jpeg': '0 Advertisement, 0 Poster',\n",
       " '(16) 18379894042056715.jpeg': '2 Person, 0 Photobombing, 0 Bottle, 2 Shaker, 1 Adult, 1 Female, 1 Woman, 1 Baseball Cap, 0 Cap, 0 Clothing, 0 Hat, 0 Face, 0 Head',\n",
       " '(17) 17876557646942156.jpeg': '0 People, 3 Person, 2 Adult, 2 Male, 2 Man, 0 Clothing, 1 Glove, 1 Helmet, 0 Footwear, 4 Shoe, 0 Shorts, 0 American Football, 0 Football, 0 Playing American Football, 0 Sport',\n",
       " '(18) 17956303754673865.jpeg': '1 Helmet, 0 American Football, 0 Football, 1 Person, 0 Playing American Football, 0 Sport, 1 Adult, 1 Male, 1 Man, 0 Clothing, 2 Glove, 0 People',\n",
       " '(19) 18027245935589987.jpeg': '1 Helmet, 1 Adult, 1 Male, 1 Man, 1 Person, 0 Clothing, 2 Glove, 0 American Football, 0 Football, 0 Playing American Football, 0 Sport, 0 Advertisement, 0 Footwear, 2 Shoe',\n",
       " '(2) 18040499875507660.jpeg': '0 Nature, 0 Outdoors, 0 Adventure, 0 Leisure Activities, 2 Person, 0 Snow, 0 Snowboarding, 0 Sport, 1 Boy, 1 Child, 1 Male, 0 Clothing, 1 Glove, 1 Helmet',\n",
       " '(2) @VanArchives - Vancouver Archives.jpeg': '0 Face, 0 Head, 14 Person, 0 Photography, 0 Portrait, 0 Lady, 3 Adult, 2 Male, 2 Man, 0 Clothing, 0 Coat, 0 Crowd, 1 Female, 1 Woman, 0 People, 0 Jacket, 0 Audience',\n",
       " '(2) ball-park-brand-mflmvznfdq8-unsplash.jpeg': '0 Fire, 0 Flame, 4 Adult, 3 Female, 5 Person, 3 Woman, 1 Bonfire, 1 Male, 1 Man, 0 Face, 0 Head, 0 Happy, 0 Clothing, 0 Footwear, 1 Shoe',\n",
       " '(3) 18005670805793076.jpeg': '0 Helmet, 0 Machine, 0 Motor, 0 Spoke, 0 Clothing, 0 Hardhat, 0 Crash Helmet, 1 Adult, 1 Male, 1 Man, 2 Person, 1 Motorcycle, 0 Transportation, 0 Vehicle, 4 Car, 3 Wheel, 1 Glove, 0 Tire',\n",
       " '(3) @NewEraCanada - New Era Canada.jpeg': '0 Baseball Cap, 0 Cap, 0 Clothing, 2 Hat, 0 Advertisement, 0 Poster, 1 QR Code',\n",
       " '(4) 17978197394393810.jpeg': '4 Adult, 4 Male, 4 Man, 10 Person, 2 Motorcycle, 0 Transportation, 0 Vehicle, 0 Machine, 2 Wheel, 0 Fun, 0 Vacation, 0 Officer, 0 Police Officer, 0 Face, 0 Head, 1 E-scooter',\n",
       " '(4) @betregal - BetRegal.jpeg': '0 Advertisement, 0 Poster, 1 Scoreboard, 0 Text',\n",
       " '(5) @Stats_Junkie - Chris 🇨🇦🏈 Stats Junkie.png': '0 Chart, 0 Plot, 0 Page, 0 Text, 0 Number, 0 Symbol, 0 Measurements',\n",
       " '(6) 18030065674525036.jpeg': '0 Text, 0 Advertisement, 0 Number, 0 Symbol',\n",
       " '(6) @Tara_Marie29 - Tara-Marie Hall.jpeg': '0 Ball, 0 Rugby, 1 Rugby Ball, 0 Sport, 0 Face, 0 Head, 1 Person, 0 Photography, 0 Portrait, 1 Boy, 1 Child, 1 Male, 0 American Football, 1 American Football (Ball), 0 Football, 0 Playing American Football, 0 Helmet, 0 People',\n",
       " '(7) @Cdn_Turkey - Canadian Turkey.jpeg': '0 Food, 0 Food Presentation, 1 Pizza, 0 Cutlery, 1 Spoon, 0 Bread',\n",
       " '(8) 17963380910618789.jpeg': '0 Road, 0 Tarmac, 0 Person, 0 Walking, 0 Freeway, 0 Highway, 0 Clothing, 0 Footwear, 1 Shoe, 0 Sneaker',\n",
       " '(8) @fisherwavy - Fisher Wavy.jpeg': '0 Bbq, 0 Cooking, 0 Food, 0 Grilling, 0 Advertisement, 1 Person, 2 Car, 0 Transportation, 0 Vehicle, 0 Device, 0 Electrical Device',\n",
       " 'IMG_0866 Large.jpeg': '11 Person, 0 Outdoors',\n",
       " 'IMG_2318 Large.jpeg': '3 Adult, 1 Female, 13 Person, 1 Woman, 0 People, 0 Crowd, 0 Architecture, 1 Building, 2 Male, 2 Man, 2 Plant, 0 Indoors, 0 Face, 0 Head, 0 Audience',\n",
       " 'IMG_2334 Large.jpeg': '0 Architecture, 3 Building, 0 Office Building, 0 School, 0 Factory, 0 Housing, 0 College',\n",
       " 'IMG_2345 Large.jpeg': '0 Conversation, 3 Person, 0 Interview, 2 Adult, 2 Male, 2 Man, 1 Plant, 0 Clothing, 0 Footwear, 3 Shoe, 0 Crowd, 0 Computer, 0 Electronics, 1 Laptop, 0 Pc, 1 Chair, 0 Furniture, 0 Audience, 0 Indoors, 0 Face, 0 Head',\n",
       " 'IMG_3155.JPG': '0 Clothing, 3 Coat, 2 Adult, 2 Male, 2 Man, 2 Person, 2 Glove, 0 Advertisement, 1 Jacket, 2 Car, 0 Transportation, 0 Vehicle, 0 Face, 0 Head',\n",
       " 'IMG_3386 Large.jpeg': '0 Airfield, 0 Airport, 0 Aircraft, 1 Airplane, 0 Transportation, 0 Vehicle, 0 Airliner',\n",
       " 'IMG_3614 Large.jpeg': '0 Architecture, 0 Building, 0 Outdoors, 0 Shelter, 0 City, 0 Summer, 0 Road, 0 Street, 0 Urban, 0 Neighborhood, 0 Path, 12 Person, 0 Garden, 0 Nature, 0 Arbour, 0 Hotel, 0 Walkway, 0 Accessories, 0 Bag, 1 Handbag, 0 Plant, 0 Tree, 0 Light, 1 Traffic Light, 0 Vegetation, 0 Countryside, 0 Hut, 0 Rural'}"
      ]
     },
     "execution_count": 44,
     "metadata": {},
     "output_type": "execute_result"
    }
   ],
   "source": [
    "# Converting to a dictionary for ease of access\n",
    "image_labels_dict = aggregated_labels.set_index('Image Name')['Label'].to_dict()\n",
    "\n",
    "# Displaying the dictionary\n",
    "image_labels_dict"
   ]
  },
  {
   "cell_type": "code",
   "execution_count": 55,
   "metadata": {},
   "outputs": [
    {
     "data": {
      "text/plain": [
       "((33, 169),\n",
       " array(['10', '11', '12', '13', '14', 'accessories', 'activities', 'adult',\n",
       "        'adventure', 'advertisement'], dtype=object))"
      ]
     },
     "execution_count": 55,
     "metadata": {},
     "output_type": "execute_result"
    }
   ],
   "source": [
    "from sklearn.feature_extraction.text import CountVectorizer\n",
    "\n",
    "# Example user inputs\n",
    "user_text_prompt = \"I went snow boarding the mountains\"\n",
    "smart_story_description = \"Rockey Mountains\"\n",
    "\n",
    "# Step 4: Tokenize the user_text_prompt, smart_story_descriptions, and the image labels.\n",
    "\n",
    "# Combine the user inputs and the image labels into a single list for tokenization\n",
    "texts_to_tokenize = [user_text_prompt, smart_story_description] + list(image_labels_dict.values())\n",
    "\n",
    "# Initialize the CountVectorizer\n",
    "vectorizer = CountVectorizer()\n",
    "\n",
    "# Tokenize the texts\n",
    "tokenized_texts = vectorizer.fit_transform(texts_to_tokenize)\n",
    "\n",
    "# Convert the tokenized texts to an array for easier viewing and further processing\n",
    "tokenized_texts_array = tokenized_texts.toarray()\n",
    "\n",
    "# Show the shape of the array to confirm the tokenization\n",
    "tokenized_texts_array.shape, vectorizer.get_feature_names_out()[:10]"
   ]
  },
  {
   "cell_type": "code",
   "execution_count": 54,
   "metadata": {},
   "outputs": [
    {
     "data": {
      "text/plain": [
       "('(2) 18040499875507660.jpeg', 0.11547005383792514)"
      ]
     },
     "execution_count": 54,
     "metadata": {},
     "output_type": "execute_result"
    }
   ],
   "source": [
    "from sklearn.metrics.pairwise import cosine_similarity\n",
    "\n",
    "# and that the first two rows correspond to user_text_prompt and smart_story_description respectively\n",
    "\n",
    "# Extract vectors for user inputs\n",
    "user_text_vector = tokenized_texts_array[0].reshape(1, -1)  # User text prompt\n",
    "story_desc_vector = tokenized_texts_array[1].reshape(1, -1)  # Smart story description\n",
    "\n",
    "# Calculate cosine similarity between user inputs and all image labels\n",
    "cos_sim_user_text = cosine_similarity(user_text_vector, tokenized_texts_array[2:])  # Skipping the first two\n",
    "cos_sim_story_desc = cosine_similarity(story_desc_vector, tokenized_texts_array[2:])\n",
    "\n",
    "# The result is a list of similarity scores between the user inputs and each image label vector\n",
    "# Let's assume we want to find the image labels most similar to the user_text_prompt\n",
    "most_similar_index = cos_sim_user_text.argmax()  # This gets the index of the highest similarity score\n",
    "most_similar_image = list(image_labels_dict.keys())[most_similar_index]  # Retrieve the corresponding image name\n",
    "\n",
    "most_similar_image, cos_sim_user_text[0, most_similar_index]"
   ]
  }
 ],
 "metadata": {
  "kernelspec": {
   "display_name": "Python 3",
   "language": "python",
   "name": "python3"
  },
  "language_info": {
   "codemirror_mode": {
    "name": "ipython",
    "version": 3
   },
   "file_extension": ".py",
   "mimetype": "text/x-python",
   "name": "python",
   "nbconvert_exporter": "python",
   "pygments_lexer": "ipython3",
   "version": "3.12.2"
  }
 },
 "nbformat": 4,
 "nbformat_minor": 2
}
